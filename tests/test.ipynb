{
 "cells": [
  {
   "cell_type": "code",
   "execution_count": 51,
   "metadata": {},
   "outputs": [],
   "source": [
    "import torch\n",
    "\n",
    "from model import *"
   ]
  },
  {
   "cell_type": "code",
   "execution_count": 52,
   "metadata": {},
   "outputs": [],
   "source": [
    "enc = Encoder(3, 16, 2)"
   ]
  },
  {
   "cell_type": "code",
   "execution_count": 53,
   "metadata": {},
   "outputs": [],
   "source": [
    "dummy = torch.empty((1, 3, 28, 28))"
   ]
  },
  {
   "cell_type": "code",
   "execution_count": 4,
   "metadata": {},
   "outputs": [
    {
     "data": {
      "text/plain": [
       "torch.Size([1, 3, 1, 1])"
      ]
     },
     "execution_count": 4,
     "metadata": {},
     "output_type": "execute_result"
    }
   ],
   "source": [
    "import torch\n",
    "\n",
    "l = torch.nn.AdaptiveAvgPool2d((1, 1))\n",
    "dummy = torch.empty((1, 3, 28, 28))\n",
    "l(dummy).shape"
   ]
  },
  {
   "cell_type": "code",
   "execution_count": 54,
   "metadata": {},
   "outputs": [
    {
     "name": "stdout",
     "output_type": "stream",
     "text": [
      "torch.Size([1, 3, 28, 28])\n",
      "torch.Size([1, 8, 14, 14])\n",
      "torch.Size([1, 16, 7, 7])\n",
      "torch.Size([1, 2, 2, 2])\n"
     ]
    }
   ],
   "source": [
    "m, v = enc(dummy)"
   ]
  },
  {
   "cell_type": "code",
   "execution_count": null,
   "metadata": {},
   "outputs": [],
   "source": [
    "enc = \n",
    "dec = Decoder()"
   ]
  },
  {
   "cell_type": "code",
   "execution_count": 55,
   "metadata": {},
   "outputs": [
    {
     "data": {
      "text/plain": [
       "torch.Size([1, 2, 2, 2])"
      ]
     },
     "execution_count": 55,
     "metadata": {},
     "output_type": "execute_result"
    }
   ],
   "source": [
    "m.shape"
   ]
  },
  {
   "cell_type": "code",
   "execution_count": 56,
   "metadata": {},
   "outputs": [
    {
     "data": {
      "text/plain": [
       "torch.Size([1, 2, 1, 1])"
      ]
     },
     "execution_count": 56,
     "metadata": {},
     "output_type": "execute_result"
    }
   ],
   "source": [
    "l = nn.AdaptiveAvgPool2d(1)\n",
    "l(m).shape"
   ]
  },
  {
   "cell_type": "code",
   "execution_count": 57,
   "metadata": {},
   "outputs": [],
   "source": [
    "dec = Decoder(2, 16, 3)\n",
    "l = nn.AdaptiveAvgPool2d(1)"
   ]
  },
  {
   "cell_type": "code",
   "execution_count": 58,
   "metadata": {},
   "outputs": [],
   "source": [
    "m, v = l(m), l(v)"
   ]
  },
  {
   "cell_type": "code",
   "execution_count": 59,
   "metadata": {},
   "outputs": [
    {
     "data": {
      "text/plain": [
       "torch.Size([1, 2, 1, 1])"
      ]
     },
     "execution_count": 59,
     "metadata": {},
     "output_type": "execute_result"
    }
   ],
   "source": [
    "m.shape"
   ]
  },
  {
   "cell_type": "code",
   "execution_count": 60,
   "metadata": {},
   "outputs": [],
   "source": [
    "# b = torch.nn.UpsamplingBilinear2d(2)"
   ]
  },
  {
   "cell_type": "code",
   "execution_count": 61,
   "metadata": {},
   "outputs": [],
   "source": [
    "# m = b(m)\n",
    "# m.shape"
   ]
  },
  {
   "cell_type": "code",
   "execution_count": 62,
   "metadata": {},
   "outputs": [
    {
     "name": "stdout",
     "output_type": "stream",
     "text": [
      "torch.Size([1, 2, 1, 1])\n",
      "torch.Size([1, 8, 1, 1])\n",
      "torch.Size([1, 16, 1, 1])\n",
      "torch.Size([1, 16, 1, 1])\n",
      "torch.Size([1, 3, 1, 1])\n"
     ]
    }
   ],
   "source": [
    "y = dec(m)"
   ]
  },
  {
   "cell_type": "code",
   "execution_count": 63,
   "metadata": {},
   "outputs": [],
   "source": [
    "import numpy as np\n",
    "\n",
    "\n",
    "i = np.linspace(-1, 1, 28)\n",
    "j = np.linspace(-1, 1, 28)\n",
    "index = np.transpose(np.expand_dims(np.array(np.meshgrid(i, j)), axis=0), (0, 1, 3, 2))"
   ]
  },
  {
   "cell_type": "code",
   "execution_count": 64,
   "metadata": {},
   "outputs": [
    {
     "data": {
      "text/plain": [
       "array([[-1., -1.]])"
      ]
     },
     "execution_count": 64,
     "metadata": {},
     "output_type": "execute_result"
    }
   ],
   "source": [
    "index[:, :, 0, 0]"
   ]
  },
  {
   "cell_type": "code",
   "execution_count": 65,
   "metadata": {},
   "outputs": [],
   "source": [
    "index_torch = torch.tensor(index)"
   ]
  },
  {
   "cell_type": "code",
   "execution_count": 66,
   "metadata": {},
   "outputs": [
    {
     "data": {
      "text/plain": [
       "tensor([[[[-1.0000, -1.0000, -1.0000,  ..., -1.0000, -1.0000, -1.0000],\n",
       "          [-0.9259, -0.9259, -0.9259,  ..., -0.9259, -0.9259, -0.9259],\n",
       "          [-0.8519, -0.8519, -0.8519,  ..., -0.8519, -0.8519, -0.8519],\n",
       "          ...,\n",
       "          [ 0.8519,  0.8519,  0.8519,  ...,  0.8519,  0.8519,  0.8519],\n",
       "          [ 0.9259,  0.9259,  0.9259,  ...,  0.9259,  0.9259,  0.9259],\n",
       "          [ 1.0000,  1.0000,  1.0000,  ...,  1.0000,  1.0000,  1.0000]],\n",
       "\n",
       "         [[-1.0000, -0.9259, -0.8519,  ...,  0.8519,  0.9259,  1.0000],\n",
       "          [-1.0000, -0.9259, -0.8519,  ...,  0.8519,  0.9259,  1.0000],\n",
       "          [-1.0000, -0.9259, -0.8519,  ...,  0.8519,  0.9259,  1.0000],\n",
       "          ...,\n",
       "          [-1.0000, -0.9259, -0.8519,  ...,  0.8519,  0.9259,  1.0000],\n",
       "          [-1.0000, -0.9259, -0.8519,  ...,  0.8519,  0.9259,  1.0000],\n",
       "          [-1.0000, -0.9259, -0.8519,  ...,  0.8519,  0.9259,  1.0000]]]],\n",
       "       dtype=torch.float64)"
      ]
     },
     "execution_count": 66,
     "metadata": {},
     "output_type": "execute_result"
    }
   ],
   "source": [
    "index_torch"
   ]
  },
  {
   "cell_type": "code",
   "execution_count": 67,
   "metadata": {},
   "outputs": [
    {
     "data": {
      "text/plain": [
       "torch.Size([1, 2, 1, 1])"
      ]
     },
     "execution_count": 67,
     "metadata": {},
     "output_type": "execute_result"
    }
   ],
   "source": [
    "m.shape"
   ]
  },
  {
   "cell_type": "code",
   "execution_count": 68,
   "metadata": {},
   "outputs": [
    {
     "data": {
      "text/plain": [
       "torch.Size([1, 2, 28, 28])"
      ]
     },
     "execution_count": 68,
     "metadata": {},
     "output_type": "execute_result"
    }
   ],
   "source": [
    "index_torch.shape"
   ]
  },
  {
   "cell_type": "code",
   "execution_count": 72,
   "metadata": {},
   "outputs": [
    {
     "data": {
      "text/plain": [
       "tensor([[[[-1.7639e+33, -1.7639e+33, -1.7639e+33,  ..., -1.7639e+33,\n",
       "           -1.7639e+33, -1.7639e+33],\n",
       "          [-1.7639e+33, -1.7639e+33, -1.7639e+33,  ..., -1.7639e+33,\n",
       "           -1.7639e+33, -1.7639e+33],\n",
       "          [-1.7639e+33, -1.7639e+33, -1.7639e+33,  ..., -1.7639e+33,\n",
       "           -1.7639e+33, -1.7639e+33],\n",
       "          ...,\n",
       "          [-1.7639e+33, -1.7639e+33, -1.7639e+33,  ..., -1.7639e+33,\n",
       "           -1.7639e+33, -1.7639e+33],\n",
       "          [-1.7639e+33, -1.7639e+33, -1.7639e+33,  ..., -1.7639e+33,\n",
       "           -1.7639e+33, -1.7639e+33],\n",
       "          [-1.7639e+33, -1.7639e+33, -1.7639e+33,  ..., -1.7639e+33,\n",
       "           -1.7639e+33, -1.7639e+33]],\n",
       "\n",
       "         [[-3.3334e+32, -3.3334e+32, -3.3334e+32,  ..., -3.3334e+32,\n",
       "           -3.3334e+32, -3.3334e+32],\n",
       "          [-3.3334e+32, -3.3334e+32, -3.3334e+32,  ..., -3.3334e+32,\n",
       "           -3.3334e+32, -3.3334e+32],\n",
       "          [-3.3334e+32, -3.3334e+32, -3.3334e+32,  ..., -3.3334e+32,\n",
       "           -3.3334e+32, -3.3334e+32],\n",
       "          ...,\n",
       "          [-3.3334e+32, -3.3334e+32, -3.3334e+32,  ..., -3.3334e+32,\n",
       "           -3.3334e+32, -3.3334e+32],\n",
       "          [-3.3334e+32, -3.3334e+32, -3.3334e+32,  ..., -3.3334e+32,\n",
       "           -3.3334e+32, -3.3334e+32],\n",
       "          [-3.3334e+32, -3.3334e+32, -3.3334e+32,  ..., -3.3334e+32,\n",
       "           -3.3334e+32, -3.3334e+32]]]], grad_fn=<ExpandBackward0>)"
      ]
     },
     "execution_count": 72,
     "metadata": {},
     "output_type": "execute_result"
    }
   ],
   "source": [
    "m_exp = torch.broadcast_to(m, (1, 2, 28, 28))\n",
    "m_exp"
   ]
  },
  {
   "cell_type": "code",
   "execution_count": 74,
   "metadata": {},
   "outputs": [
    {
     "data": {
      "text/plain": [
       "torch.Size([1, 4, 28, 28])"
      ]
     },
     "execution_count": 74,
     "metadata": {},
     "output_type": "execute_result"
    }
   ],
   "source": [
    "inputs = torch.concat((m_exp, index_torch), dim=1)\n",
    "inputs.shape"
   ]
  },
  {
   "cell_type": "code",
   "execution_count": null,
   "metadata": {},
   "outputs": [],
   "source": []
  }
 ],
 "metadata": {
  "kernelspec": {
   "display_name": "Python 3.10.3 64-bit",
   "language": "python",
   "name": "python3"
  },
  "language_info": {
   "codemirror_mode": {
    "name": "ipython",
    "version": 3
   },
   "file_extension": ".py",
   "mimetype": "text/x-python",
   "name": "python",
   "nbconvert_exporter": "python",
   "pygments_lexer": "ipython3",
   "version": "3.10.3"
  },
  "orig_nbformat": 4,
  "vscode": {
   "interpreter": {
    "hash": "aee8b7b246df8f9039afb4144a1f6fd8d2ca17a180786b69acc140d282b71a49"
   }
  }
 },
 "nbformat": 4,
 "nbformat_minor": 2
}
