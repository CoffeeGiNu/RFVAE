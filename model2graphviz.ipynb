{
 "cells": [
  {
   "cell_type": "code",
   "execution_count": 1,
   "metadata": {},
   "outputs": [],
   "source": [
    "import torch\n",
    "from torchviz import make_dot\n",
    "\n",
    "from model import *\n",
    "from utility import *"
   ]
  },
  {
   "cell_type": "code",
   "execution_count": 2,
   "metadata": {},
   "outputs": [],
   "source": [
    "log_dir = \"./logs\"\n",
    "seed = 42\n",
    "fix_seed(seed)\n",
    "device = 'cpu'\n",
    "file_model = \"./models/64_10_512/checkpoint_z10.pth\""
   ]
  },
  {
   "cell_type": "code",
   "execution_count": 5,
   "metadata": {},
   "outputs": [
    {
     "data": {
      "text/plain": [
       "'figure/graph_image.png'"
      ]
     },
     "execution_count": 5,
     "metadata": {},
     "output_type": "execute_result"
    }
   ],
   "source": [
    "model = ResolutionFreeVariationalAutoEncoder(\n",
    "    in_channels=1,\n",
    "    enc_hidden_channels=64,\n",
    "    dim_latent=10,\n",
    "    dec_hidden_features=512,\n",
    "    out_channels=1,\n",
    "    out_size=(28, 28),\n",
    "    device=device,\n",
    ")\n",
    "model.load_state_dict(torch.load(file_model))\n",
    "model.eval()\n",
    "\n",
    "dummy_x = torch.randn(1, 1, 28, 28, device=\"cpu\")\n",
    "y = model(dummy_x)['outputs']\n",
    "\n",
    "# dot = make_dot(y, params=dict(model.named_parameters()), show_attrs=True, show_saved=True)\n",
    "dot = make_dot(y, params=dict(model.named_parameters()))\n",
    "\n",
    "dot.format = 'png'\n",
    "dot.render('./figure/graph_image')"
   ]
  }
 ],
 "metadata": {
  "kernelspec": {
   "display_name": "Python 3.10.3 64-bit",
   "language": "python",
   "name": "python3"
  },
  "language_info": {
   "codemirror_mode": {
    "name": "ipython",
    "version": 3
   },
   "file_extension": ".py",
   "mimetype": "text/x-python",
   "name": "python",
   "nbconvert_exporter": "python",
   "pygments_lexer": "ipython3",
   "version": "3.10.3"
  },
  "orig_nbformat": 4,
  "vscode": {
   "interpreter": {
    "hash": "aee8b7b246df8f9039afb4144a1f6fd8d2ca17a180786b69acc140d282b71a49"
   }
  }
 },
 "nbformat": 4,
 "nbformat_minor": 2
}
